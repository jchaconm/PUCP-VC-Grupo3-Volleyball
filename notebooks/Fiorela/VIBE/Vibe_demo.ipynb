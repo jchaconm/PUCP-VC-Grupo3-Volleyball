{
  "nbformat": 4,
  "nbformat_minor": 0,
  "metadata": {
    "colab": {
      "name": "Vibe_demo.ipynb",
      "provenance": [],
      "collapsed_sections": []
    },
    "kernelspec": {
      "name": "python3",
      "display_name": "Python 3"
    },
    "accelerator": "GPU"
  },
  "cells": [
    {
      "cell_type": "markdown",
      "metadata": {
        "id": "9QmY4dDYpmfB"
      },
      "source": [
        "# VIBE: Video Inference for Human Body Pose and Shape Estimation\n",
        "\n",
        "Demo of the original PyTorch based implementation provided here: https://github.com/mkocabas/VIBE\n",
        "\n",
        "## Note\n",
        "Before running this notebook make sure that your runtime type is 'Python 3 with GPU acceleration'. Go to Edit > Notebook settings > Hardware Accelerator > Select \"GPU\".\n",
        "\n",
        "## More Info\n",
        "- Paper: https://arxiv.org/abs/1912.05656\n",
        "- Repo: https://github.com/mkocabas/VIBE"
      ]
    },
    {
      "cell_type": "code",
      "metadata": {
        "id": "Tvd4cfPk5a0e",
        "colab": {
          "base_uri": "https://localhost:8080/"
        },
        "outputId": "6878f987-698c-4561-8a23-3b28ad7ed8f2"
      },
      "source": [
        "# Clone the repo\n",
        "!git clone https://github.com/mkocabas/VIBE.git"
      ],
      "execution_count": 2,
      "outputs": [
        {
          "output_type": "stream",
          "text": [
            "fatal: destination path 'VIBE' already exists and is not an empty directory.\n"
          ],
          "name": "stdout"
        }
      ]
    },
    {
      "cell_type": "code",
      "metadata": {
        "id": "Sui0UeZR5vCy",
        "colab": {
          "base_uri": "https://localhost:8080/"
        },
        "outputId": "f9dc6d47-9d4a-492b-f73c-b83e84ede24f"
      },
      "source": [
        "%cd VIBE/"
      ],
      "execution_count": 3,
      "outputs": [
        {
          "output_type": "stream",
          "text": [
            "/content/VIBE\n"
          ],
          "name": "stdout"
        }
      ]
    },
    {
      "cell_type": "code",
      "metadata": {
        "id": "Rs6UTvVO6Fxf",
        "colab": {
          "base_uri": "https://localhost:8080/"
        },
        "outputId": "8e5b5110-ec7c-428d-8f2d-7382f8a08035"
      },
      "source": [
        "# Install the other requirements\n",
        "!pip install torch==1.4.0 numpy==1.17.5\n",
        "!pip install git+https://github.com/giacaglia/pytube.git --upgrade\n",
        "!pip install -r requirements.txt"
      ],
      "execution_count": 4,
      "outputs": [
        {
          "output_type": "stream",
          "text": [
            "Requirement already satisfied: torch==1.4.0 in /usr/local/lib/python3.6/dist-packages (1.4.0)\n",
            "Requirement already satisfied: numpy==1.17.5 in /usr/local/lib/python3.6/dist-packages (1.17.5)\n",
            "Collecting git+https://github.com/giacaglia/pytube.git\n",
            "  Cloning https://github.com/giacaglia/pytube.git to /tmp/pip-req-build-nhooc1p7\n",
            "  Running command git clone -q https://github.com/giacaglia/pytube.git /tmp/pip-req-build-nhooc1p7\n",
            "Building wheels for collected packages: pytube\n",
            "  Building wheel for pytube (setup.py) ... \u001b[?25l\u001b[?25hdone\n",
            "  Created wheel for pytube: filename=pytube-9.5.3-cp36-none-any.whl size=32276 sha256=12eb6dd0d2a032617153d9dbb915a7283418628ef3ac3b0db0edfcfce3ca4d91\n",
            "  Stored in directory: /tmp/pip-ephem-wheel-cache-dx40gcwq/wheels/49/5a/fe/342957c87dc4c1e1a244fbeffcdbf8a0f2c8db0277823f3bfd\n",
            "Successfully built pytube\n",
            "Installing collected packages: pytube\n",
            "  Found existing installation: pytube 9.5.3\n",
            "    Uninstalling pytube-9.5.3:\n",
            "      Successfully uninstalled pytube-9.5.3\n",
            "Successfully installed pytube-9.5.3\n",
            "Collecting git+https://github.com/mattloper/chumpy.git (from -r requirements.txt (line 24))\n",
            "  Cloning https://github.com/mattloper/chumpy.git to /tmp/pip-req-build-3l9pdrv2\n",
            "  Running command git clone -q https://github.com/mattloper/chumpy.git /tmp/pip-req-build-3l9pdrv2\n",
            "Requirement already satisfied (use --upgrade to upgrade): chumpy==0.70 from git+https://github.com/mattloper/chumpy.git in /usr/local/lib/python3.6/dist-packages (from -r requirements.txt (line 24))\n",
            "Collecting git+https://github.com/mkocabas/yolov3-pytorch.git (from -r requirements.txt (line 25))\n",
            "  Cloning https://github.com/mkocabas/yolov3-pytorch.git to /tmp/pip-req-build-8ayoog9a\n",
            "  Running command git clone -q https://github.com/mkocabas/yolov3-pytorch.git /tmp/pip-req-build-8ayoog9a\n",
            "Requirement already satisfied (use --upgrade to upgrade): yolov3==0.1 from git+https://github.com/mkocabas/yolov3-pytorch.git in /usr/local/lib/python3.6/dist-packages (from -r requirements.txt (line 25))\n",
            "Collecting git+https://github.com/mkocabas/multi-person-tracker.git (from -r requirements.txt (line 26))\n",
            "  Cloning https://github.com/mkocabas/multi-person-tracker.git to /tmp/pip-req-build-arq2iu40\n",
            "  Running command git clone -q https://github.com/mkocabas/multi-person-tracker.git /tmp/pip-req-build-arq2iu40\n",
            "Requirement already satisfied (use --upgrade to upgrade): multi-person-tracker==0.1 from git+https://github.com/mkocabas/multi-person-tracker.git in /usr/local/lib/python3.6/dist-packages (from -r requirements.txt (line 26))\n",
            "Requirement already satisfied: tqdm==4.28.1 in /usr/local/lib/python3.6/dist-packages (from -r requirements.txt (line 1)) (4.28.1)\n",
            "Requirement already satisfied: yacs==0.1.6 in /usr/local/lib/python3.6/dist-packages (from -r requirements.txt (line 2)) (0.1.6)\n",
            "Requirement already satisfied: h5py==2.10.0 in /usr/local/lib/python3.6/dist-packages (from -r requirements.txt (line 3)) (2.10.0)\n",
            "Requirement already satisfied: numpy==1.17.5 in /usr/local/lib/python3.6/dist-packages (from -r requirements.txt (line 4)) (1.17.5)\n",
            "Requirement already satisfied: scipy==1.4.1 in /usr/local/lib/python3.6/dist-packages (from -r requirements.txt (line 5)) (1.4.1)\n",
            "Requirement already satisfied: numba==0.47.0 in /usr/local/lib/python3.6/dist-packages (from -r requirements.txt (line 6)) (0.47.0)\n",
            "Requirement already satisfied: smplx==0.1.13 in /usr/local/lib/python3.6/dist-packages (from -r requirements.txt (line 7)) (0.1.13)\n",
            "Requirement already satisfied: gdown==3.6.4 in /usr/local/lib/python3.6/dist-packages (from -r requirements.txt (line 8)) (3.6.4)\n",
            "Requirement already satisfied: PyYAML==5.3.1 in /usr/local/lib/python3.6/dist-packages (from -r requirements.txt (line 9)) (5.3.1)\n",
            "Requirement already satisfied: joblib==0.14.1 in /usr/local/lib/python3.6/dist-packages (from -r requirements.txt (line 10)) (0.14.1)\n",
            "Requirement already satisfied: pillow==6.2.1 in /usr/local/lib/python3.6/dist-packages (from -r requirements.txt (line 11)) (6.2.1)\n",
            "Requirement already satisfied: trimesh==3.5.25 in /usr/local/lib/python3.6/dist-packages (from -r requirements.txt (line 12)) (3.5.25)\n",
            "Requirement already satisfied: pyrender==0.1.36 in /usr/local/lib/python3.6/dist-packages (from -r requirements.txt (line 13)) (0.1.36)\n",
            "Requirement already satisfied: progress==1.5 in /usr/local/lib/python3.6/dist-packages (from -r requirements.txt (line 14)) (1.5)\n",
            "Requirement already satisfied: filterpy==1.4.5 in /usr/local/lib/python3.6/dist-packages (from -r requirements.txt (line 15)) (1.4.5)\n",
            "Requirement already satisfied: matplotlib==3.1.3 in /usr/local/lib/python3.6/dist-packages (from -r requirements.txt (line 16)) (3.1.3)\n",
            "Requirement already satisfied: tensorflow==1.15.4 in /usr/local/lib/python3.6/dist-packages (from -r requirements.txt (line 17)) (1.15.4)\n",
            "Requirement already satisfied: tensorboard==2.1.0 in /usr/local/lib/python3.6/dist-packages (from -r requirements.txt (line 18)) (2.1.0)\n",
            "Requirement already satisfied: torchvision==0.5.0 in /usr/local/lib/python3.6/dist-packages (from -r requirements.txt (line 19)) (0.5.0)\n",
            "Requirement already satisfied: scikit-image==0.16.2 in /usr/local/lib/python3.6/dist-packages (from -r requirements.txt (line 20)) (0.16.2)\n",
            "Requirement already satisfied: scikit-video==1.1.11 in /usr/local/lib/python3.6/dist-packages (from -r requirements.txt (line 21)) (1.1.11)\n",
            "Requirement already satisfied: opencv-python==4.1.2.30 in /usr/local/lib/python3.6/dist-packages (from -r requirements.txt (line 22)) (4.1.2.30)\n",
            "Requirement already satisfied: llvmlite==0.32.1 in /usr/local/lib/python3.6/dist-packages (from -r requirements.txt (line 23)) (0.32.1)\n",
            "Requirement already satisfied: six>=1.11.0 in /usr/local/lib/python3.6/dist-packages (from chumpy==0.70->-r requirements.txt (line 24)) (1.15.0)\n",
            "Requirement already satisfied: setuptools in /usr/local/lib/python3.6/dist-packages (from numba==0.47.0->-r requirements.txt (line 6)) (50.3.2)\n",
            "Requirement already satisfied: torch>=1.0.1.post2 in /usr/local/lib/python3.6/dist-packages (from smplx==0.1.13->-r requirements.txt (line 7)) (1.4.0)\n",
            "Requirement already satisfied: torchgeometry>=0.1.2 in /usr/local/lib/python3.6/dist-packages (from smplx==0.1.13->-r requirements.txt (line 7)) (0.1.2)\n",
            "Requirement already satisfied: requests in /usr/local/lib/python3.6/dist-packages (from gdown==3.6.4->-r requirements.txt (line 8)) (2.23.0)\n",
            "Requirement already satisfied: networkx in /usr/local/lib/python3.6/dist-packages (from pyrender==0.1.36->-r requirements.txt (line 13)) (2.5)\n",
            "Requirement already satisfied: freetype-py in /usr/local/lib/python3.6/dist-packages (from pyrender==0.1.36->-r requirements.txt (line 13)) (2.2.0)\n",
            "Requirement already satisfied: PyOpenGL==3.1.0 in /usr/local/lib/python3.6/dist-packages (from pyrender==0.1.36->-r requirements.txt (line 13)) (3.1.0)\n",
            "Requirement already satisfied: imageio in /usr/local/lib/python3.6/dist-packages (from pyrender==0.1.36->-r requirements.txt (line 13)) (2.4.1)\n",
            "Requirement already satisfied: pyglet>=1.4.10 in /usr/local/lib/python3.6/dist-packages (from pyrender==0.1.36->-r requirements.txt (line 13)) (1.5.0)\n",
            "Requirement already satisfied: kiwisolver>=1.0.1 in /usr/local/lib/python3.6/dist-packages (from matplotlib==3.1.3->-r requirements.txt (line 16)) (1.3.1)\n",
            "Requirement already satisfied: python-dateutil>=2.1 in /usr/local/lib/python3.6/dist-packages (from matplotlib==3.1.3->-r requirements.txt (line 16)) (2.8.1)\n",
            "Requirement already satisfied: cycler>=0.10 in /usr/local/lib/python3.6/dist-packages (from matplotlib==3.1.3->-r requirements.txt (line 16)) (0.10.0)\n",
            "Requirement already satisfied: pyparsing!=2.0.4,!=2.1.2,!=2.1.6,>=2.0.1 in /usr/local/lib/python3.6/dist-packages (from matplotlib==3.1.3->-r requirements.txt (line 16)) (2.4.7)\n",
            "Requirement already satisfied: opt-einsum>=2.3.2 in /usr/local/lib/python3.6/dist-packages (from tensorflow==1.15.4->-r requirements.txt (line 17)) (3.3.0)\n",
            "Requirement already satisfied: wrapt>=1.11.1 in /usr/local/lib/python3.6/dist-packages (from tensorflow==1.15.4->-r requirements.txt (line 17)) (1.12.1)\n",
            "Requirement already satisfied: tensorflow-estimator==1.15.1 in /usr/local/lib/python3.6/dist-packages (from tensorflow==1.15.4->-r requirements.txt (line 17)) (1.15.1)\n",
            "Requirement already satisfied: gast==0.2.2 in /usr/local/lib/python3.6/dist-packages (from tensorflow==1.15.4->-r requirements.txt (line 17)) (0.2.2)\n",
            "Requirement already satisfied: protobuf>=3.6.1 in /usr/local/lib/python3.6/dist-packages (from tensorflow==1.15.4->-r requirements.txt (line 17)) (3.12.4)\n",
            "Requirement already satisfied: keras-preprocessing>=1.0.5 in /usr/local/lib/python3.6/dist-packages (from tensorflow==1.15.4->-r requirements.txt (line 17)) (1.1.2)\n",
            "Requirement already satisfied: termcolor>=1.1.0 in /usr/local/lib/python3.6/dist-packages (from tensorflow==1.15.4->-r requirements.txt (line 17)) (1.1.0)\n",
            "Requirement already satisfied: grpcio>=1.8.6 in /usr/local/lib/python3.6/dist-packages (from tensorflow==1.15.4->-r requirements.txt (line 17)) (1.33.2)\n",
            "Requirement already satisfied: wheel>=0.26; python_version >= \"3\" in /usr/local/lib/python3.6/dist-packages (from tensorflow==1.15.4->-r requirements.txt (line 17)) (0.35.1)\n",
            "Requirement already satisfied: google-pasta>=0.1.6 in /usr/local/lib/python3.6/dist-packages (from tensorflow==1.15.4->-r requirements.txt (line 17)) (0.2.0)\n",
            "Requirement already satisfied: absl-py>=0.7.0 in /usr/local/lib/python3.6/dist-packages (from tensorflow==1.15.4->-r requirements.txt (line 17)) (0.10.0)\n",
            "Requirement already satisfied: keras-applications>=1.0.8 in /usr/local/lib/python3.6/dist-packages (from tensorflow==1.15.4->-r requirements.txt (line 17)) (1.0.8)\n",
            "Requirement already satisfied: astor>=0.6.0 in /usr/local/lib/python3.6/dist-packages (from tensorflow==1.15.4->-r requirements.txt (line 17)) (0.8.1)\n",
            "Requirement already satisfied: markdown>=2.6.8 in /usr/local/lib/python3.6/dist-packages (from tensorboard==2.1.0->-r requirements.txt (line 18)) (3.3.3)\n",
            "Requirement already satisfied: google-auth<2,>=1.6.3 in /usr/local/lib/python3.6/dist-packages (from tensorboard==2.1.0->-r requirements.txt (line 18)) (1.17.2)\n",
            "Requirement already satisfied: google-auth-oauthlib<0.5,>=0.4.1 in /usr/local/lib/python3.6/dist-packages (from tensorboard==2.1.0->-r requirements.txt (line 18)) (0.4.2)\n",
            "Requirement already satisfied: werkzeug>=0.11.15 in /usr/local/lib/python3.6/dist-packages (from tensorboard==2.1.0->-r requirements.txt (line 18)) (1.0.1)\n",
            "Requirement already satisfied: PyWavelets>=0.4.0 in /usr/local/lib/python3.6/dist-packages (from scikit-image==0.16.2->-r requirements.txt (line 20)) (1.1.1)\n",
            "Requirement already satisfied: chardet<4,>=3.0.2 in /usr/local/lib/python3.6/dist-packages (from requests->gdown==3.6.4->-r requirements.txt (line 8)) (3.0.4)\n",
            "Requirement already satisfied: certifi>=2017.4.17 in /usr/local/lib/python3.6/dist-packages (from requests->gdown==3.6.4->-r requirements.txt (line 8)) (2020.11.8)\n",
            "Requirement already satisfied: urllib3!=1.25.0,!=1.25.1,<1.26,>=1.21.1 in /usr/local/lib/python3.6/dist-packages (from requests->gdown==3.6.4->-r requirements.txt (line 8)) (1.24.3)\n",
            "Requirement already satisfied: idna<3,>=2.5 in /usr/local/lib/python3.6/dist-packages (from requests->gdown==3.6.4->-r requirements.txt (line 8)) (2.10)\n",
            "Requirement already satisfied: decorator>=4.3.0 in /usr/local/lib/python3.6/dist-packages (from networkx->pyrender==0.1.36->-r requirements.txt (line 13)) (4.4.2)\n",
            "Requirement already satisfied: future in /usr/local/lib/python3.6/dist-packages (from pyglet>=1.4.10->pyrender==0.1.36->-r requirements.txt (line 13)) (0.16.0)\n",
            "Requirement already satisfied: importlib-metadata; python_version < \"3.8\" in /usr/local/lib/python3.6/dist-packages (from markdown>=2.6.8->tensorboard==2.1.0->-r requirements.txt (line 18)) (2.0.0)\n",
            "Requirement already satisfied: pyasn1-modules>=0.2.1 in /usr/local/lib/python3.6/dist-packages (from google-auth<2,>=1.6.3->tensorboard==2.1.0->-r requirements.txt (line 18)) (0.2.8)\n",
            "Requirement already satisfied: cachetools<5.0,>=2.0.0 in /usr/local/lib/python3.6/dist-packages (from google-auth<2,>=1.6.3->tensorboard==2.1.0->-r requirements.txt (line 18)) (4.1.1)\n",
            "Requirement already satisfied: rsa<5,>=3.1.4; python_version >= \"3\" in /usr/local/lib/python3.6/dist-packages (from google-auth<2,>=1.6.3->tensorboard==2.1.0->-r requirements.txt (line 18)) (4.6)\n",
            "Requirement already satisfied: requests-oauthlib>=0.7.0 in /usr/local/lib/python3.6/dist-packages (from google-auth-oauthlib<0.5,>=0.4.1->tensorboard==2.1.0->-r requirements.txt (line 18)) (1.3.0)\n",
            "Requirement already satisfied: zipp>=0.5 in /usr/local/lib/python3.6/dist-packages (from importlib-metadata; python_version < \"3.8\"->markdown>=2.6.8->tensorboard==2.1.0->-r requirements.txt (line 18)) (3.4.0)\n",
            "Requirement already satisfied: pyasn1<0.5.0,>=0.4.6 in /usr/local/lib/python3.6/dist-packages (from pyasn1-modules>=0.2.1->google-auth<2,>=1.6.3->tensorboard==2.1.0->-r requirements.txt (line 18)) (0.4.8)\n",
            "Requirement already satisfied: oauthlib>=3.0.0 in /usr/local/lib/python3.6/dist-packages (from requests-oauthlib>=0.7.0->google-auth-oauthlib<0.5,>=0.4.1->tensorboard==2.1.0->-r requirements.txt (line 18)) (3.1.0)\n",
            "Building wheels for collected packages: chumpy, yolov3, multi-person-tracker\n",
            "  Building wheel for chumpy (setup.py) ... \u001b[?25l\u001b[?25hdone\n",
            "  Created wheel for chumpy: filename=chumpy-0.70-cp36-none-any.whl size=60904 sha256=a5b3ba1265e0d67d1e66317b40380dfd291331fb840b2297e50c69df45dc9f88\n",
            "  Stored in directory: /tmp/pip-ephem-wheel-cache-mvany71t/wheels/ed/d0/74/8aeda0556643bb15fb13da4e031831bbfdcf716da2507999a6\n",
            "  Building wheel for yolov3 (setup.py) ... \u001b[?25l\u001b[?25hdone\n",
            "  Created wheel for yolov3: filename=yolov3-0.1-cp36-none-any.whl size=25816 sha256=12c0bc83a319747e26792bc0fab869c61184e1b1f69c1befa4216d5422bc4c85\n",
            "  Stored in directory: /tmp/pip-ephem-wheel-cache-mvany71t/wheels/52/cd/dc/1aa668555b599d1f997f7b802fded738ce7259c36c82d3497e\n",
            "  Building wheel for multi-person-tracker (setup.py) ... \u001b[?25l\u001b[?25hdone\n",
            "  Created wheel for multi-person-tracker: filename=multi_person_tracker-0.1-cp36-none-any.whl size=8599 sha256=0852438c4ab056595ef3768ec7964e13697a82f9d48c038171adfb200db4e351\n",
            "  Stored in directory: /tmp/pip-ephem-wheel-cache-mvany71t/wheels/05/7c/60/cc4b54c579c6e3e98da59223faedcc10ea1f1abe1bffcf3189\n",
            "Successfully built chumpy yolov3 multi-person-tracker\n"
          ],
          "name": "stdout"
        }
      ]
    },
    {
      "cell_type": "code",
      "metadata": {
        "id": "brZt0q3Y6X5W",
        "colab": {
          "base_uri": "https://localhost:8080/"
        },
        "outputId": "0671ebcc-5348-4b40-8f18-f45783c1d206"
      },
      "source": [
        "# Download pretrained weights and SMPL data\n",
        "!source scripts/prepare_data.sh"
      ],
      "execution_count": 5,
      "outputs": [
        {
          "output_type": "stream",
          "text": [
            "Downloading...\n",
            "From: https://drive.google.com/uc?id=1untXhYOLQtpNEy4GTY_0fL_H-k6cTf_r\n",
            "To: /content/VIBE/data/vibe_data.zip\n",
            "561MB [00:04, 136MB/s]\n",
            "Archive:  vibe_data.zip\n",
            "replace vibe_data/smpl_mean_params.npz? [y]es, [n]o, [A]ll, [N]one, [r]ename: y\n",
            "  inflating: vibe_data/smpl_mean_params.npz  \n",
            "replace vibe_data/vibe_model_w_3dpw.pth.tar? [y]es, [n]o, [A]ll, [N]one, [r]ename: y\n",
            "  inflating: vibe_data/vibe_model_w_3dpw.pth.tar  \n",
            "replace vibe_data/gmm_08.pkl? [y]es, [n]o, [A]ll, [N]one, [r]ename: y\n",
            "  inflating: vibe_data/gmm_08.pkl    \n",
            "replace vibe_data/J_regressor_h36m.npy? [y]es, [n]o, [A]ll, [N]one, [r]ename: y\n",
            "  inflating: vibe_data/J_regressor_h36m.npy  \n",
            "replace vibe_data/vibe_model_wo_3dpw.pth.tar? [y]es, [n]o, [A]ll, [N]one, [r]ename: y\n",
            "  inflating: vibe_data/vibe_model_wo_3dpw.pth.tar  \n",
            "replace vibe_data/SMPL_NEUTRAL.pkl? [y]es, [n]o, [A]ll, [N]one, [r]ename: y\n",
            "  inflating: vibe_data/SMPL_NEUTRAL.pkl  \n",
            "replace vibe_data/J_regressor_extra.npy? [y]es, [n]o, [A]ll, [N]one, [r]ename: y\n",
            "  inflating: vibe_data/J_regressor_extra.npy  \n",
            "replace vibe_data/spin_model_checkpoint.pth.tar? [y]es, [n]o, [A]ll, [N]one, [r]ename: y\n",
            "  inflating: vibe_data/spin_model_checkpoint.pth.tar  \n",
            "  inflating: vibe_data/sample_video.mp4  \n",
            "  inflating: vibe_data/yolov3.weights  y\n",
            "y\n",
            "\n"
          ],
          "name": "stdout"
        }
      ]
    },
    {
      "cell_type": "markdown",
      "metadata": {
        "id": "J7A7eakXIn9A"
      },
      "source": [
        "### Run the demo code.\n",
        "\n",
        "Check https://github.com/mkocabas/VIBE/blob/master/doc/demo.md for more details about demo.\n",
        "\n",
        "**Note:** Final rendering is slow compared to inference. We use pyrender with GPU accelaration and it takes 2-3 FPS per image. Please let us know if you know any faster alternative. "
      ]
    },
    {
      "cell_type": "code",
      "metadata": {
        "id": "qVNszfLQ7rC9",
        "colab": {
          "base_uri": "https://localhost:8080/"
        },
        "outputId": "08872775-634d-40e0-a48d-92c67466da70"
      },
      "source": [
        "# Run the demo\n",
        "!python demo.py --vid_file test2_cam1_25.mp4 --output_folder output/ \n",
        "\n",
        "# You may use --sideview flag to enable from a different viewpoint, note that this doubles rendering time.\n",
        "# !python demo.py --vid_file sample_video.mp4 --output_folder output/ --sideview\n",
        "\n",
        "# You may also run VIBE on a YouTube video by providing a link\n",
        "# python demo.py --vid_file https://www.youtube.com/watch?v=c4DAnQ6DtF8 --output_folder output/ --display"
      ],
      "execution_count": 13,
      "outputs": [
        {
          "output_type": "stream",
          "text": [
            "Running \"ffmpeg -i test2_cam1_25.mp4 -f image2 -v error /tmp/test2_cam1_25_mp4/%06d.png\"\n",
            "Images saved to \"/tmp/test2_cam1_25_mp4\"\n",
            "Input video number of frames 202\n",
            "Running Multi-Person-Tracker\n",
            "100% 5/5 [00:09<00:00,  1.67s/it]\n",
            "Finished. Detection + Tracking FPS 21.49\n",
            "=> loaded pretrained model from 'data/vibe_data/spin_model_checkpoint.pth.tar'\n",
            "Performance of pretrained model on 3DPW: 56.56075477600098\n",
            "Loaded pretrained weights from \"data/vibe_data/vibe_model_wo_3dpw.pth.tar\"\n",
            "Running VIBE on each tracklet...\n",
            "100% 1/1 [00:05<00:00,  5.33s/it]\n",
            "VIBE FPS: 37.89\n",
            "Total time spent: 21.48 seconds (including model loading time).\n",
            "Total FPS (including model loading time): 9.40.\n",
            "Saving output results to \"output/test2_cam1_25/vibe_output.pkl\".\n",
            "Rendering output video, writing frames to /tmp/test2_cam1_25_mp4_output\n",
            "100% 202/202 [00:30<00:00,  6.46it/s]\n",
            "Saving result video to output/test2_cam1_25/test2_cam1_25_vibe_result.mp4\n",
            "Running \"ffmpeg -y -threads 16 -i /tmp/test2_cam1_25_mp4_output/%06d.png -profile:v baseline -level 3.0 -c:v libx264 -pix_fmt yuv420p -an -v error output/test2_cam1_25/test2_cam1_25_vibe_result.mp4\"\n",
            "================= END =================\n"
          ],
          "name": "stdout"
        }
      ]
    },
    {
      "cell_type": "code",
      "metadata": {
        "id": "8nPm_mkbHhRe"
      },
      "source": [
        ""
      ],
      "execution_count": null,
      "outputs": []
    }
  ]
}